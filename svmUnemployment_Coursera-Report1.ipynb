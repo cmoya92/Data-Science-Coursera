{
 "cells": [
  {
   "cell_type": "markdown",
   "metadata": {},
   "source": [
    "# REPORT: Sanish unemployment rates"
   ]
  },
  {
   "cell_type": "markdown",
   "metadata": {},
   "source": [
    "### *Carlos Moya Perez*  -March 2019-"
   ]
  },
  {
   "cell_type": "markdown",
   "metadata": {},
   "source": [
    "### INTRODUCTION"
   ]
  },
  {
   "cell_type": "markdown",
   "metadata": {},
   "source": [
    "Unemployment is a worldwide problem but in Spain it is higher than in other Western European countries. Unemployment fell to 8% between 2006 and 2007 but from the Spanish economic crisis of 2008 the rate quickly rose past 20% in 2010 and 25% in 2012. Unemployment in some regions of Spain is slightly less than in others, but it tends to be one of the highest in the European Union whatever the state of the economy."
   ]
  },
  {
   "cell_type": "markdown",
   "metadata": {},
   "source": [
    "Spain has one of the highest unemployment rates compared to other OECD countries.The Q4 2017 unemployment rate is 16.6% of labor force.There has been an upward trend since the 1990s, and this trend has historic roots.Unemployment began rising in Francoist Spain during the 1970s.\n",
    "\n",
    "During the Francoist Spain, trade union activism was prohibited and social security benefits of the modern welfare state were lacking. In 1972, 2.7 million jobs in agriculture were replaced by 1.1 million jobs in the public sector further increasing unemployment.Although unemployment is a problem in other OECD countries as well such as Italy and Turkey, data shows that the extent of increase and the persistence is much larger in Spain.Moreover, Catholic countries such as Spain often have very low female workers participation rate,accordingly the unemployment rate may worsen with a new generation of women beginning to pursue work. Net employment creation has been negative since 1973; meaning new jobs aren’t being created to sustain development."
   ]
  },
  {
   "cell_type": "markdown",
   "metadata": {},
   "source": [
    "### DESCRIPTION"
   ]
  },
  {
   "cell_type": "markdown",
   "metadata": {},
   "source": [
    "In this assignment we will estimate unemployment rates in Spain, using *pandas* for reading information, *scikit-learn* for training estimators, and *geopandas* and *folium* for visualizing results. \n",
    "\n",
    "The data used during the assignment is **unemployment of each municipality**:\n",
    "\n",
    " + Paro_por_municipios_2006.csv\n",
    " + Paro_por_municipios_2007.csv\n",
    " + Paro_por_municipios_2008.csv\n",
    " + Paro_por_municipios_2009.csv\n",
    " + Paro_por_municipios_2010.csv\n",
    " + Paro_por_municipios_2011.csv\n",
    " + Paro_por_municipios_2012.csv\n",
    " + Paro_por_municipios_2013.csv\n",
    " + Paro_por_municipios_2014.csv\n",
    " + Paro_por_municipios_2015.csv\n",
    " + Paro_por_municipios_2016.csv\n",
    " + Paro_por_municipios_2017.csv\n",
    " \n",
    "\n",
    "And  **muncipality´s information**:\n",
    "+ Latitude\n",
    "+ Longitude\n",
    "+ Altitude\n",
    "+ Habitants\n",
    "\n",
    "We will use SVM as an algorithm with 2 kernels: Linear and RBF. We will select the best one. "
   ]
  }
 ],
 "metadata": {
  "anaconda-cloud": {},
  "hide_input": false,
  "kernelspec": {
   "display_name": "Python 3",
   "language": "python",
   "name": "python3"
  },
  "language_info": {
   "codemirror_mode": {
    "name": "ipython",
    "version": 3
   },
   "file_extension": ".py",
   "mimetype": "text/x-python",
   "name": "python",
   "nbconvert_exporter": "python",
   "pygments_lexer": "ipython3",
   "version": "3.7.2"
  },
  "toc": {
   "base_numbering": 1,
   "nav_menu": {},
   "number_sections": true,
   "sideBar": true,
   "skip_h1_title": false,
   "title_cell": "Table of Contents",
   "title_sidebar": "Contents",
   "toc_cell": false,
   "toc_position": {},
   "toc_section_display": true,
   "toc_window_display": false
  },
  "varInspector": {
   "cols": {
    "lenName": 16,
    "lenType": 16,
    "lenVar": 40
   },
   "kernels_config": {
    "python": {
     "delete_cmd_postfix": "",
     "delete_cmd_prefix": "del ",
     "library": "var_list.py",
     "varRefreshCmd": "print(var_dic_list())"
    },
    "r": {
     "delete_cmd_postfix": ") ",
     "delete_cmd_prefix": "rm(",
     "library": "var_list.r",
     "varRefreshCmd": "cat(var_dic_list()) "
    }
   },
   "types_to_exclude": [
    "module",
    "function",
    "builtin_function_or_method",
    "instance",
    "_Feature"
   ],
   "window_display": false
  }
 },
 "nbformat": 4,
 "nbformat_minor": 1
}
